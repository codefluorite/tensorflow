{
  "nbformat": 4,
  "nbformat_minor": 0,
  "metadata": {
    "colab": {
      "name": "TensorFlow-Introduction.ipynb",
      "provenance": [],
      "authorship_tag": "ABX9TyNXcBSRSmjWsHYEL+oLWbA9",
      "include_colab_link": true
    },
    "kernelspec": {
      "name": "python3",
      "display_name": "Python 3"
    },
    "language_info": {
      "name": "python"
    }
  },
  "cells": [
    {
      "cell_type": "markdown",
      "metadata": {
        "id": "view-in-github",
        "colab_type": "text"
      },
      "source": [
        "<a href=\"https://colab.research.google.com/github/codefluorite/tensorflow/blob/main/TensorFlow_Introduction.ipynb\" target=\"_parent\"><img src=\"https://colab.research.google.com/assets/colab-badge.svg\" alt=\"Open In Colab\"/></a>"
      ]
    },
    {
      "cell_type": "markdown",
      "metadata": {
        "id": "p5wk3KjPge8-"
      },
      "source": [
        "Import tensorflow"
      ]
    },
    {
      "cell_type": "code",
      "metadata": {
        "colab": {
          "base_uri": "https://localhost:8080/"
        },
        "id": "rMkvs6creVoO",
        "outputId": "2ede6fae-27fd-49a1-8f99-e23039619f1a"
      },
      "source": [
        "%tensorflow_version 2.x # states the line to use"
      ],
      "execution_count": 1,
      "outputs": [
        {
          "output_type": "stream",
          "text": [
            "`%tensorflow_version` only switches the major version: 1.x or 2.x.\n",
            "You set: `2.x # states the line to use`. This will be interpreted as: `2.x`.\n",
            "\n",
            "\n",
            "TensorFlow 2.x selected.\n"
          ],
          "name": "stdout"
        }
      ]
    },
    {
      "cell_type": "code",
      "metadata": {
        "colab": {
          "base_uri": "https://localhost:8080/"
        },
        "id": "voC0c8FMe0xE",
        "outputId": "40380a05-7991-471c-e47a-f6173e04356e"
      },
      "source": [
        "import tensorflow as tf\n",
        "print(tf.version)"
      ],
      "execution_count": 2,
      "outputs": [
        {
          "output_type": "stream",
          "text": [
            "<module 'tensorflow._api.v2.version' from '/usr/local/lib/python3.7/dist-packages/tensorflow/_api/v2/version/__init__.py'>\n"
          ],
          "name": "stdout"
        }
      ]
    },
    {
      "cell_type": "markdown",
      "metadata": {
        "id": "fLNZ01auhwjG"
      },
      "source": [
        "Tensors - a vector generalised to higher dimensions"
      ]
    },
    {
      "cell_type": "code",
      "metadata": {
        "id": "j6crSz5YiSmT"
      },
      "source": [
        "string = tf.Variable(\"This is a string\", tf.string)\n",
        "number = tf.Variable(324, tf.int16)\n",
        "floating = tf.Variable(3.564, tf.float64)"
      ],
      "execution_count": 3,
      "outputs": []
    },
    {
      "cell_type": "markdown",
      "metadata": {
        "id": "F2IXfGg9i6Uo"
      },
      "source": [
        "Rank\n",
        "\n",
        "The number of dimensions"
      ]
    },
    {
      "cell_type": "code",
      "metadata": {
        "id": "1tGnFPdnjJYa"
      },
      "source": [
        "rank1_tensor = tf.Variable([\"Test\", \"Ok\", \"codefluorite\"], tf.string)\n",
        "rank2_tensor = tf.Variable([[\"test\", \"ok\"], [\"test\", \"ok\"]], tf.string)"
      ],
      "execution_count": 4,
      "outputs": []
    },
    {
      "cell_type": "markdown",
      "metadata": {
        "id": "GqSW7Q-Ijr5H"
      },
      "source": [
        "To determine the rank of a tensor"
      ]
    },
    {
      "cell_type": "code",
      "metadata": {
        "colab": {
          "base_uri": "https://localhost:8080/"
        },
        "id": "yM061AZMjxm3",
        "outputId": "696887e6-d434-4384-9376-56eb9b427221"
      },
      "source": [
        "tf.rank(rank2_tensor)"
      ],
      "execution_count": 5,
      "outputs": [
        {
          "output_type": "execute_result",
          "data": {
            "text/plain": [
              "<tf.Tensor: shape=(), dtype=int32, numpy=2>"
            ]
          },
          "metadata": {
            "tags": []
          },
          "execution_count": 5
        }
      ]
    },
    {
      "cell_type": "markdown",
      "metadata": {
        "id": "RSv_2ln_kQgj"
      },
      "source": [
        "To determine the shape of a tensor"
      ]
    },
    {
      "cell_type": "code",
      "metadata": {
        "colab": {
          "base_uri": "https://localhost:8080/"
        },
        "id": "kgUVY_lSkTIz",
        "outputId": "ae38cc01-9beb-4771-e15b-9250f7cb3c2d"
      },
      "source": [
        "rank2_tensor.shape"
      ],
      "execution_count": 6,
      "outputs": [
        {
          "output_type": "execute_result",
          "data": {
            "text/plain": [
              "TensorShape([2, 2])"
            ]
          },
          "metadata": {
            "tags": []
          },
          "execution_count": 6
        }
      ]
    },
    {
      "cell_type": "markdown",
      "metadata": {
        "id": "-_jILObWky4X"
      },
      "source": [
        "Changing shape\n",
        "\n",
        "Reshape the data"
      ]
    },
    {
      "cell_type": "code",
      "metadata": {
        "id": "ThomXhKbk2qW"
      },
      "source": [
        "tensor1 = tf.ones([1,2,3]) # tf.ones() creates a shape [1,2,3] tensor full of ones\n",
        "tensor2 = tf.reshape(tensor1, [2,3,1]) # reshapes exsisting data to shape [2,3,1]\n",
        "tensor3 = tf.reshape(tensor2, [3, -1]) # -1 tells the tensor to calculat the size of the dimension in that place\n",
        "                                      # this will rehape the tensor to [3,2]\n",
        "\n",
        "# The number of elements in the reshaped tensor must match the number in the original"
      ],
      "execution_count": 7,
      "outputs": []
    },
    {
      "cell_type": "code",
      "metadata": {
        "colab": {
          "base_uri": "https://localhost:8080/"
        },
        "id": "0DbeywUimB9Q",
        "outputId": "c645196e-d50b-48d3-8590-5571e0cb55f6"
      },
      "source": [
        "print(tensor1)\n",
        "print(tensor2)\n",
        "print(tensor3)"
      ],
      "execution_count": 8,
      "outputs": [
        {
          "output_type": "stream",
          "text": [
            "tf.Tensor(\n",
            "[[[1. 1. 1.]\n",
            "  [1. 1. 1.]]], shape=(1, 2, 3), dtype=float32)\n",
            "tf.Tensor(\n",
            "[[[1.]\n",
            "  [1.]\n",
            "  [1.]]\n",
            "\n",
            " [[1.]\n",
            "  [1.]\n",
            "  [1.]]], shape=(2, 3, 1), dtype=float32)\n",
            "tf.Tensor(\n",
            "[[1. 1.]\n",
            " [1. 1.]\n",
            " [1. 1.]], shape=(3, 2), dtype=float32)\n"
          ],
          "name": "stdout"
        }
      ]
    },
    {
      "cell_type": "markdown",
      "metadata": {
        "id": "8Tzb7AjgmxiW"
      },
      "source": [
        "Types of tensor\n",
        "\n",
        "\n",
        "\n",
        "*   Variable\n",
        "*   Constant\n",
        "*   Placeholder\n",
        "*   SparseTensor"
      ]
    },
    {
      "cell_type": "markdown",
      "metadata": {
        "id": "qeo_AnYZnali"
      },
      "source": [
        "Evaluating Tensors\n",
        "\n",
        "Evaluate a tensors value. "
      ]
    },
    {
      "cell_type": "code",
      "metadata": {
        "id": "4R7tYpUEnlfy"
      },
      "source": [
        "with tf.session() as sess: # creates a session using the default graph\n",
        "  tensor.eval() # tensor will of course be the name of your tensor"
      ],
      "execution_count": null,
      "outputs": []
    },
    {
      "cell_type": "markdown",
      "metadata": {
        "id": "X8Nwv_2Xn-xW"
      },
      "source": [
        "Sources:\n",
        "\n",
        "https://tensorflow.org/guide/tensor"
      ]
    }
  ]
}